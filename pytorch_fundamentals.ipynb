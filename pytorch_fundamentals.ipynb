{
  "nbformat": 4,
  "nbformat_minor": 0,
  "metadata": {
    "colab": {
      "provenance": [],
      "gpuType": "T4",
      "authorship_tag": "ABX9TyPj51jzWvJ1RCXFw7D5xpHk",
      "include_colab_link": true
    },
    "kernelspec": {
      "name": "python3",
      "display_name": "Python 3"
    },
    "language_info": {
      "name": "python"
    },
    "accelerator": "GPU"
  },
  "cells": [
    {
      "cell_type": "markdown",
      "metadata": {
        "id": "view-in-github",
        "colab_type": "text"
      },
      "source": [
        "<a href=\"https://colab.research.google.com/github/darshnkd/pytorch-fundamentals/blob/main/pytorch_fundamentals.ipynb\" target=\"_parent\"><img src=\"https://colab.research.google.com/assets/colab-badge.svg\" alt=\"Open In Colab\"/></a>"
      ]
    },
    {
      "cell_type": "markdown",
      "source": [
        "## PyTorch Fundamentals"
      ],
      "metadata": {
        "id": "T7u-3hyaJ4kN"
      }
    },
    {
      "cell_type": "code",
      "execution_count": null,
      "metadata": {
        "colab": {
          "base_uri": "https://localhost:8080/"
        },
        "id": "Pr4ci5A1FMju",
        "outputId": "ec046918-e4a2-4f54-859c-b825c472c913"
      },
      "outputs": [
        {
          "output_type": "stream",
          "name": "stdout",
          "text": [
            "/bin/bash: line 1: nvidia-smi: command not found\n"
          ]
        }
      ],
      "source": [
        "!nvidia-smi"
      ]
    },
    {
      "cell_type": "code",
      "source": [
        "import torch\n",
        "print(torch.__version__)"
      ],
      "metadata": {
        "colab": {
          "base_uri": "https://localhost:8080/"
        },
        "id": "0Gs6G0OTGPyA",
        "outputId": "48000add-dc63-4905-9ad8-9004b0ef8860"
      },
      "execution_count": null,
      "outputs": [
        {
          "output_type": "stream",
          "name": "stdout",
          "text": [
            "2.4.0+cu121\n"
          ]
        }
      ]
    },
    {
      "cell_type": "markdown",
      "source": [
        "## Introduction to Tensors\n",
        "\n",
        "### Creating tensors"
      ],
      "metadata": {
        "id": "b9yG8Ji4LhZv"
      }
    },
    {
      "cell_type": "code",
      "source": [
        "# scalar\n",
        "scalar = torch.tensor(10)\n",
        "scalar"
      ],
      "metadata": {
        "colab": {
          "base_uri": "https://localhost:8080/"
        },
        "id": "N4HsnthKJrQa",
        "outputId": "1bc5a867-9687-4c3f-d6c1-6cbd23e2be0b"
      },
      "execution_count": null,
      "outputs": [
        {
          "output_type": "execute_result",
          "data": {
            "text/plain": [
              "tensor(10)"
            ]
          },
          "metadata": {},
          "execution_count": 3
        }
      ]
    },
    {
      "cell_type": "code",
      "source": [
        "scalar.ndim"
      ],
      "metadata": {
        "colab": {
          "base_uri": "https://localhost:8080/"
        },
        "id": "W6Ro7oG2L9dt",
        "outputId": "ce890453-639a-444a-ce13-fa856ac261c0"
      },
      "execution_count": null,
      "outputs": [
        {
          "output_type": "execute_result",
          "data": {
            "text/plain": [
              "0"
            ]
          },
          "metadata": {},
          "execution_count": 4
        }
      ]
    },
    {
      "cell_type": "code",
      "source": [
        "# get tensor back as python int\n",
        "scalar.item()"
      ],
      "metadata": {
        "colab": {
          "base_uri": "https://localhost:8080/"
        },
        "id": "7aZRVe58M9hC",
        "outputId": "ea4fc787-cd47-41f1-a4d0-814beddfa27a"
      },
      "execution_count": null,
      "outputs": [
        {
          "output_type": "execute_result",
          "data": {
            "text/plain": [
              "10"
            ]
          },
          "metadata": {},
          "execution_count": 5
        }
      ]
    },
    {
      "cell_type": "code",
      "source": [
        "# vector\n",
        "vector = torch.tensor([10,24])\n",
        "vector"
      ],
      "metadata": {
        "colab": {
          "base_uri": "https://localhost:8080/"
        },
        "id": "CNIhvcVsNXzq",
        "outputId": "b4241085-e4f6-4183-cb0a-f0cc8057504a"
      },
      "execution_count": null,
      "outputs": [
        {
          "output_type": "execute_result",
          "data": {
            "text/plain": [
              "tensor([10, 24])"
            ]
          },
          "metadata": {},
          "execution_count": 6
        }
      ]
    },
    {
      "cell_type": "code",
      "source": [
        "vector.ndim"
      ],
      "metadata": {
        "colab": {
          "base_uri": "https://localhost:8080/"
        },
        "id": "KxDws8k_Nucg",
        "outputId": "fa6391d9-e7d8-4933-cf0c-314fae67ed34"
      },
      "execution_count": null,
      "outputs": [
        {
          "output_type": "execute_result",
          "data": {
            "text/plain": [
              "1"
            ]
          },
          "metadata": {},
          "execution_count": 7
        }
      ]
    },
    {
      "cell_type": "code",
      "source": [
        "vector.shape"
      ],
      "metadata": {
        "colab": {
          "base_uri": "https://localhost:8080/"
        },
        "id": "Kv1n8nOANw0Y",
        "outputId": "d4497d89-4584-4fb0-d517-569f6d4d879f"
      },
      "execution_count": null,
      "outputs": [
        {
          "output_type": "execute_result",
          "data": {
            "text/plain": [
              "torch.Size([2])"
            ]
          },
          "metadata": {},
          "execution_count": 8
        }
      ]
    },
    {
      "cell_type": "code",
      "source": [
        "# MATRIX\n",
        "MATRIX = torch.tensor([[1,5],\n",
        "                      [5,8]])\n",
        "MATRIX"
      ],
      "metadata": {
        "colab": {
          "base_uri": "https://localhost:8080/"
        },
        "id": "XAn_kdVZOAbD",
        "outputId": "1dede1c5-195b-45e4-86d1-32d356ca648c"
      },
      "execution_count": null,
      "outputs": [
        {
          "output_type": "execute_result",
          "data": {
            "text/plain": [
              "tensor([[1, 5],\n",
              "        [5, 8]])"
            ]
          },
          "metadata": {},
          "execution_count": 9
        }
      ]
    },
    {
      "cell_type": "code",
      "source": [
        "MATRIX.ndim"
      ],
      "metadata": {
        "colab": {
          "base_uri": "https://localhost:8080/"
        },
        "id": "6YgATnDsOX9T",
        "outputId": "826e12a6-3965-4bee-dec9-90558e1f39d5"
      },
      "execution_count": null,
      "outputs": [
        {
          "output_type": "execute_result",
          "data": {
            "text/plain": [
              "2"
            ]
          },
          "metadata": {},
          "execution_count": 10
        }
      ]
    },
    {
      "cell_type": "code",
      "source": [
        "MATRIX.shape"
      ],
      "metadata": {
        "colab": {
          "base_uri": "https://localhost:8080/"
        },
        "id": "B9JpdwoxOlDY",
        "outputId": "76d1db51-d0f8-44b6-8965-1fdd2046b008"
      },
      "execution_count": null,
      "outputs": [
        {
          "output_type": "execute_result",
          "data": {
            "text/plain": [
              "torch.Size([2, 2])"
            ]
          },
          "metadata": {},
          "execution_count": 11
        }
      ]
    },
    {
      "cell_type": "code",
      "source": [
        "MATRIX[1]"
      ],
      "metadata": {
        "colab": {
          "base_uri": "https://localhost:8080/"
        },
        "id": "Tx8tSPLNOnP4",
        "outputId": "18313689-29cb-48be-940a-b88cd98a7a39"
      },
      "execution_count": null,
      "outputs": [
        {
          "output_type": "execute_result",
          "data": {
            "text/plain": [
              "tensor([5, 8])"
            ]
          },
          "metadata": {},
          "execution_count": 12
        }
      ]
    },
    {
      "cell_type": "code",
      "source": [
        "TENSOR = torch.tensor([[[1,2,3],\n",
        "                       [4,5,6],\n",
        "                       [7,8,9]]])\n",
        "TENSOR"
      ],
      "metadata": {
        "colab": {
          "base_uri": "https://localhost:8080/"
        },
        "id": "u5UXKvIQOs-q",
        "outputId": "9e1a3f37-db72-47f8-957a-b252cdf41c18"
      },
      "execution_count": null,
      "outputs": [
        {
          "output_type": "execute_result",
          "data": {
            "text/plain": [
              "tensor([[[1, 2, 3],\n",
              "         [4, 5, 6],\n",
              "         [7, 8, 9]]])"
            ]
          },
          "metadata": {},
          "execution_count": 13
        }
      ]
    },
    {
      "cell_type": "code",
      "source": [
        "TENSOR.ndim"
      ],
      "metadata": {
        "colab": {
          "base_uri": "https://localhost:8080/"
        },
        "id": "DG2eJAwxPXh_",
        "outputId": "1fedee40-e031-4bb0-9913-7cc7fea4fff4"
      },
      "execution_count": null,
      "outputs": [
        {
          "output_type": "execute_result",
          "data": {
            "text/plain": [
              "3"
            ]
          },
          "metadata": {},
          "execution_count": 14
        }
      ]
    },
    {
      "cell_type": "code",
      "source": [
        "TENSOR.shape"
      ],
      "metadata": {
        "colab": {
          "base_uri": "https://localhost:8080/"
        },
        "id": "_C98h7Y4PU7S",
        "outputId": "142a2dd7-9762-406d-b16d-5002f1965ab8"
      },
      "execution_count": null,
      "outputs": [
        {
          "output_type": "execute_result",
          "data": {
            "text/plain": [
              "torch.Size([1, 3, 3])"
            ]
          },
          "metadata": {},
          "execution_count": 15
        }
      ]
    },
    {
      "cell_type": "markdown",
      "source": [
        "### Random tensor\n",
        "\n",
        "why random tensors?\n",
        "\n",
        "Random tensor are important because the way neural network learn is that they start with tensors full of random numbers and adjust those random numbers to better represent the data.\n",
        "\n",
        "` start with random number -> look at data -> update random numbers -> look at the data -> update randm number`"
      ],
      "metadata": {
        "id": "R0oYjDJaQn4L"
      }
    },
    {
      "cell_type": "code",
      "source": [
        "# Create random tensor of size (3,4)\n",
        "random_tensor = torch.rand(3,4)\n",
        "random_tensor"
      ],
      "metadata": {
        "colab": {
          "base_uri": "https://localhost:8080/"
        },
        "id": "gHl8wJFSPZA4",
        "outputId": "48cc4a07-383d-4c0e-9fe6-675f42b10f26"
      },
      "execution_count": null,
      "outputs": [
        {
          "output_type": "execute_result",
          "data": {
            "text/plain": [
              "tensor([[0.4980, 0.9787, 0.3276, 0.2751],\n",
              "        [0.4128, 0.6367, 0.2164, 0.8503],\n",
              "        [0.3674, 0.9757, 0.5627, 0.8998]])"
            ]
          },
          "metadata": {},
          "execution_count": 16
        }
      ]
    },
    {
      "cell_type": "code",
      "source": [
        "random_tensor.ndim"
      ],
      "metadata": {
        "colab": {
          "base_uri": "https://localhost:8080/"
        },
        "id": "Kp5ESGjoSALO",
        "outputId": "9de1429a-1083-4fb3-96d0-1221ab372127"
      },
      "execution_count": null,
      "outputs": [
        {
          "output_type": "execute_result",
          "data": {
            "text/plain": [
              "2"
            ]
          },
          "metadata": {},
          "execution_count": 17
        }
      ]
    },
    {
      "cell_type": "code",
      "source": [
        "# create random tensor with similar shape to an image tensor\n",
        "random_image_size_tensor = torch.rand(size=(224,224,3)) #. height , width , color channel(RGB)\n",
        "random_image_size_tensor.shape , random_image_size_tensor.ndim\n"
      ],
      "metadata": {
        "colab": {
          "base_uri": "https://localhost:8080/"
        },
        "id": "K-Ez2PQ8Sz8Q",
        "outputId": "ba68e5d7-4f90-4f68-af1d-7a1d7cb50d9f"
      },
      "execution_count": null,
      "outputs": [
        {
          "output_type": "execute_result",
          "data": {
            "text/plain": [
              "(torch.Size([224, 224, 3]), 3)"
            ]
          },
          "metadata": {},
          "execution_count": 18
        }
      ]
    },
    {
      "cell_type": "markdown",
      "source": [
        "### Zeros and ones"
      ],
      "metadata": {
        "id": "Rj30C-7IU8-D"
      }
    },
    {
      "cell_type": "code",
      "source": [
        "zeros = torch.zeros(size=(4,4))\n",
        "zeros"
      ],
      "metadata": {
        "colab": {
          "base_uri": "https://localhost:8080/"
        },
        "id": "aYnT3TJiUZIb",
        "outputId": "42aa8cb8-844f-408e-e46d-1ca7e265631c"
      },
      "execution_count": null,
      "outputs": [
        {
          "output_type": "execute_result",
          "data": {
            "text/plain": [
              "tensor([[0., 0., 0., 0.],\n",
              "        [0., 0., 0., 0.],\n",
              "        [0., 0., 0., 0.],\n",
              "        [0., 0., 0., 0.]])"
            ]
          },
          "metadata": {},
          "execution_count": 19
        }
      ]
    },
    {
      "cell_type": "code",
      "source": [
        "ones = torch.ones(size=(5,3))\n",
        "ones"
      ],
      "metadata": {
        "colab": {
          "base_uri": "https://localhost:8080/"
        },
        "id": "1Jz1C8MNVGnY",
        "outputId": "21a21731-9813-494f-86e4-05bc2cb235df"
      },
      "execution_count": null,
      "outputs": [
        {
          "output_type": "execute_result",
          "data": {
            "text/plain": [
              "tensor([[1., 1., 1.],\n",
              "        [1., 1., 1.],\n",
              "        [1., 1., 1.],\n",
              "        [1., 1., 1.],\n",
              "        [1., 1., 1.]])"
            ]
          },
          "metadata": {},
          "execution_count": 20
        }
      ]
    },
    {
      "cell_type": "code",
      "source": [
        "ones.dtype"
      ],
      "metadata": {
        "colab": {
          "base_uri": "https://localhost:8080/"
        },
        "id": "HdVOCRgzVPA1",
        "outputId": "5da89419-94cc-47f5-a6ed-67bbed4eaef5"
      },
      "execution_count": null,
      "outputs": [
        {
          "output_type": "execute_result",
          "data": {
            "text/plain": [
              "torch.float32"
            ]
          },
          "metadata": {},
          "execution_count": 21
        }
      ]
    },
    {
      "cell_type": "markdown",
      "source": [
        "### Creating a range of tensor and tensor-like"
      ],
      "metadata": {
        "id": "0qCEpmx1Vrbx"
      }
    },
    {
      "cell_type": "code",
      "source": [
        "# creating tensor using arange()\n",
        "one_to_ten = torch.arange(start=1,end=11,step=1)\n",
        "one_to_ten"
      ],
      "metadata": {
        "colab": {
          "base_uri": "https://localhost:8080/"
        },
        "id": "5J3O0ODvV7RO",
        "outputId": "f6905558-26df-4a63-87ca-b61af529773f"
      },
      "execution_count": null,
      "outputs": [
        {
          "output_type": "execute_result",
          "data": {
            "text/plain": [
              "tensor([ 1,  2,  3,  4,  5,  6,  7,  8,  9, 10])"
            ]
          },
          "metadata": {},
          "execution_count": 22
        }
      ]
    },
    {
      "cell_type": "code",
      "source": [
        "# creating tensor like\n",
        "ten_zeros = torch.zeros_like(input = one_to_ten)\n",
        "ten_zeros"
      ],
      "metadata": {
        "colab": {
          "base_uri": "https://localhost:8080/"
        },
        "id": "U4ZgTcJtXFEk",
        "outputId": "05d04f36-ba38-48e0-adcc-e45bfff9bb1f"
      },
      "execution_count": null,
      "outputs": [
        {
          "output_type": "execute_result",
          "data": {
            "text/plain": [
              "tensor([0, 0, 0, 0, 0, 0, 0, 0, 0, 0])"
            ]
          },
          "metadata": {},
          "execution_count": 23
        }
      ]
    },
    {
      "cell_type": "markdown",
      "source": [
        "### Dealing with tensor datatypes\n",
        "\n",
        "**NOTE**: Tensor datatype is one of the 3 big errrors you'll run in to with PyTorch & deep learning .\n",
        "\n",
        "1. Tensors not right datatype\n",
        "2. Tensors not right shape\n",
        "3. Tensors not on the right device"
      ],
      "metadata": {
        "id": "HbeNSTmepmXb"
      }
    },
    {
      "cell_type": "code",
      "source": [
        "# Default datatype in pytorch is float32"
      ],
      "metadata": {
        "id": "2LT7rrL_qknZ"
      },
      "execution_count": null,
      "outputs": []
    },
    {
      "cell_type": "code",
      "source": [
        "# Float 32 tensor\n",
        "float_32_tensor = torch.tensor([2.,4.,5.,56.,6.],\n",
        "                               dtype=None,     # what datatype is the tensor(e.g float16)\n",
        "                               device=None,    # what device is your tensor on\n",
        "                               requires_grad=False) # whether or not to track gradients with this tensors operations\n",
        "float_32_tensor"
      ],
      "metadata": {
        "colab": {
          "base_uri": "https://localhost:8080/"
        },
        "id": "hBVN6Kegteb5",
        "outputId": "1e3c5cbf-49e6-481d-b4f2-d4018efd9e49"
      },
      "execution_count": null,
      "outputs": [
        {
          "output_type": "execute_result",
          "data": {
            "text/plain": [
              "tensor([ 2.,  4.,  5., 56.,  6.])"
            ]
          },
          "metadata": {},
          "execution_count": 25
        }
      ]
    },
    {
      "cell_type": "code",
      "source": [
        "float_32_tensor.dtype"
      ],
      "metadata": {
        "colab": {
          "base_uri": "https://localhost:8080/"
        },
        "id": "tWOM3WZZqdAO",
        "outputId": "dc80acf2-efa3-4288-9b1e-241a2721b2a2"
      },
      "execution_count": null,
      "outputs": [
        {
          "output_type": "execute_result",
          "data": {
            "text/plain": [
              "torch.float32"
            ]
          },
          "metadata": {},
          "execution_count": 26
        }
      ]
    },
    {
      "cell_type": "code",
      "source": [
        "# converting in to float16\n",
        "float_16_tensor = float_32_tensor.type(torch.float16)\n",
        "float_16_tensor"
      ],
      "metadata": {
        "colab": {
          "base_uri": "https://localhost:8080/"
        },
        "id": "9X_7exoJqiCe",
        "outputId": "071e2980-71aa-4da2-aa94-9c48f0c17e39"
      },
      "execution_count": null,
      "outputs": [
        {
          "output_type": "execute_result",
          "data": {
            "text/plain": [
              "tensor([ 2.,  4.,  5., 56.,  6.], dtype=torch.float16)"
            ]
          },
          "metadata": {},
          "execution_count": 27
        }
      ]
    },
    {
      "cell_type": "code",
      "source": [
        "float_16_tensor * float_32_tensor"
      ],
      "metadata": {
        "colab": {
          "base_uri": "https://localhost:8080/"
        },
        "id": "Bgekcwv8uJcG",
        "outputId": "458181b5-b461-4a31-935a-1e52e5f4e527"
      },
      "execution_count": null,
      "outputs": [
        {
          "output_type": "execute_result",
          "data": {
            "text/plain": [
              "tensor([   4.,   16.,   25., 3136.,   36.])"
            ]
          },
          "metadata": {},
          "execution_count": 28
        }
      ]
    },
    {
      "cell_type": "code",
      "source": [
        "int_32_tensor = torch.tensor([1,2,3,4,5], dtype=torch.int32)\n",
        "int_32_tensor"
      ],
      "metadata": {
        "colab": {
          "base_uri": "https://localhost:8080/"
        },
        "id": "26PhF8CPvKUx",
        "outputId": "44700ff6-311d-45fe-8e34-5dbf41948c19"
      },
      "execution_count": null,
      "outputs": [
        {
          "output_type": "execute_result",
          "data": {
            "text/plain": [
              "tensor([1, 2, 3, 4, 5], dtype=torch.int32)"
            ]
          },
          "metadata": {},
          "execution_count": 29
        }
      ]
    },
    {
      "cell_type": "code",
      "source": [
        "int_32_tensor * float_32_tensor"
      ],
      "metadata": {
        "colab": {
          "base_uri": "https://localhost:8080/"
        },
        "id": "ZCAFHP_6vzQD",
        "outputId": "c2b727ee-bd69-42e6-f06a-b8e38fbc41dd"
      },
      "execution_count": null,
      "outputs": [
        {
          "output_type": "execute_result",
          "data": {
            "text/plain": [
              "tensor([  2.,   8.,  15., 224.,  30.])"
            ]
          },
          "metadata": {},
          "execution_count": 30
        }
      ]
    },
    {
      "cell_type": "markdown",
      "source": [
        "### Getting information from tensors (tensor attribute)\n",
        "\n",
        "1. Tensors not right datatype - to do get datatype from a tensor , can use `tensor.dtype`\n",
        "2. Tensors not right shape - to get shape from tensor , csn use `tensor.shape`\n",
        "3. Tensors not on right device - to get device from tensor, can use `tensor.device`"
      ],
      "metadata": {
        "id": "-Oh0aCk_v4jg"
      }
    },
    {
      "cell_type": "code",
      "source": [
        "some_tensor = torch.rand(4,4)\n",
        "some_tensor"
      ],
      "metadata": {
        "colab": {
          "base_uri": "https://localhost:8080/"
        },
        "id": "ZNRSvBr5xXlC",
        "outputId": "f9b953fa-f90b-4c25-a6b6-16f8aa7fd897"
      },
      "execution_count": null,
      "outputs": [
        {
          "output_type": "execute_result",
          "data": {
            "text/plain": [
              "tensor([[0.8981, 0.4722, 0.6077, 0.6294],\n",
              "        [0.3986, 0.3900, 0.9575, 0.4441],\n",
              "        [0.0223, 0.9245, 0.4182, 0.4571],\n",
              "        [0.5373, 0.7531, 0.7686, 0.0219]])"
            ]
          },
          "metadata": {},
          "execution_count": 31
        }
      ]
    },
    {
      "cell_type": "code",
      "source": [
        "# Find the details of the tensor\n",
        "print(some_tensor)\n",
        "print(f\"Datatype of tensor : {some_tensor.dtype}\")\n",
        "print(f\"Shape of tensor : {some_tensor.shape}\")\n",
        "print(f\"Device of tensor : {some_tensor.device}\")"
      ],
      "metadata": {
        "colab": {
          "base_uri": "https://localhost:8080/"
        },
        "id": "oHWIhftOyQET",
        "outputId": "cca65fc5-1d49-4904-be6a-c6be169ae6c3"
      },
      "execution_count": null,
      "outputs": [
        {
          "output_type": "stream",
          "name": "stdout",
          "text": [
            "tensor([[0.8981, 0.4722, 0.6077, 0.6294],\n",
            "        [0.3986, 0.3900, 0.9575, 0.4441],\n",
            "        [0.0223, 0.9245, 0.4182, 0.4571],\n",
            "        [0.5373, 0.7531, 0.7686, 0.0219]])\n",
            "Datatype of tensor : torch.float32\n",
            "Shape of tensor : torch.Size([4, 4])\n",
            "Device of tensor : cpu\n"
          ]
        }
      ]
    },
    {
      "cell_type": "markdown",
      "source": [
        "### Manupulating tensors (tensor operations)\n",
        "\n",
        "1. Tensor operation include:\n",
        "* Addition\n",
        "* Subtraction\n",
        "* Multiplication (element-wise)\n",
        "* Division\n",
        "* Matrix multiplication"
      ],
      "metadata": {
        "id": "MHTFlQbby6xB"
      }
    },
    {
      "cell_type": "code",
      "source": [
        "# creating tensor and add 10\n",
        "tensor = torch.tensor([1,3,3])\n",
        "tensor + 10"
      ],
      "metadata": {
        "colab": {
          "base_uri": "https://localhost:8080/"
        },
        "id": "PJ9dari5d9LN",
        "outputId": "88088cb5-85b6-45da-f988-4a8676731d3a"
      },
      "execution_count": null,
      "outputs": [
        {
          "output_type": "execute_result",
          "data": {
            "text/plain": [
              "tensor([11, 13, 13])"
            ]
          },
          "metadata": {},
          "execution_count": 33
        }
      ]
    },
    {
      "cell_type": "code",
      "source": [
        "# Multiply tensor by 10\n",
        "tensor * 10"
      ],
      "metadata": {
        "colab": {
          "base_uri": "https://localhost:8080/"
        },
        "id": "P0gBqnCzexIe",
        "outputId": "29a7e725-2e2a-476b-811a-0efe2f2a8b9c"
      },
      "execution_count": null,
      "outputs": [
        {
          "output_type": "execute_result",
          "data": {
            "text/plain": [
              "tensor([10, 30, 30])"
            ]
          },
          "metadata": {},
          "execution_count": 34
        }
      ]
    },
    {
      "cell_type": "code",
      "source": [
        "# subtract tensor\n",
        "tensor - 10"
      ],
      "metadata": {
        "colab": {
          "base_uri": "https://localhost:8080/"
        },
        "id": "iT1x-Yqee3u6",
        "outputId": "a4ed184c-f9be-48a1-8218-7e3f45e9d253"
      },
      "execution_count": null,
      "outputs": [
        {
          "output_type": "execute_result",
          "data": {
            "text/plain": [
              "tensor([-9, -7, -7])"
            ]
          },
          "metadata": {},
          "execution_count": 35
        }
      ]
    },
    {
      "cell_type": "code",
      "source": [
        "# Try out PyTorch in-build function\n",
        "torch.mul(tensor,10)"
      ],
      "metadata": {
        "colab": {
          "base_uri": "https://localhost:8080/"
        },
        "id": "ktNsH3pffEiW",
        "outputId": "61fd9be8-a67d-45cc-c326-80a50af2a402"
      },
      "execution_count": null,
      "outputs": [
        {
          "output_type": "execute_result",
          "data": {
            "text/plain": [
              "tensor([10, 30, 30])"
            ]
          },
          "metadata": {},
          "execution_count": 36
        }
      ]
    },
    {
      "cell_type": "code",
      "source": [
        "torch.add(tensor , 20)"
      ],
      "metadata": {
        "colab": {
          "base_uri": "https://localhost:8080/"
        },
        "id": "Ar9pDItsfN_6",
        "outputId": "38bfcfb6-d6a8-48a8-800c-669f14b90fad"
      },
      "execution_count": null,
      "outputs": [
        {
          "output_type": "execute_result",
          "data": {
            "text/plain": [
              "tensor([21, 23, 23])"
            ]
          },
          "metadata": {},
          "execution_count": 37
        }
      ]
    },
    {
      "cell_type": "markdown",
      "source": [
        "### Matrix multiplication\n",
        "\n",
        "Two main ways to perform matrix multiplicattion in neural network and deep learning :\n",
        "1. Element-wise Multiplication\n",
        "2. Matrix multiplication (dot product)\n",
        "###two main rule to do matrix multiplication\n",
        "1. The **inner Dimension*8 must match:\n",
        "* (3,2) @ (2,3) --> (3,3)\n",
        "2. The resulting matrix has shape of the **outer dimension**\n",
        "*(2,3) @ (3,2) --> (2,2)"
      ],
      "metadata": {
        "id": "izerldgpfVL_"
      }
    },
    {
      "cell_type": "code",
      "source": [
        "# element wise multiplication\n",
        "tensor * tensor"
      ],
      "metadata": {
        "id": "lwNXbakoiIkT",
        "colab": {
          "base_uri": "https://localhost:8080/"
        },
        "outputId": "aa3968ab-ae31-4206-c161-2c9385cf284f"
      },
      "execution_count": null,
      "outputs": [
        {
          "output_type": "execute_result",
          "data": {
            "text/plain": [
              "tensor([1, 9, 9])"
            ]
          },
          "metadata": {},
          "execution_count": 38
        }
      ]
    },
    {
      "cell_type": "code",
      "source": [
        "# using matmul func\n",
        "torch.matmul(tensor,tensor)"
      ],
      "metadata": {
        "colab": {
          "base_uri": "https://localhost:8080/"
        },
        "id": "rClqVbvNfn6b",
        "outputId": "d8f47b3d-7fe5-46c1-f147-f7761dff42cf"
      },
      "execution_count": null,
      "outputs": [
        {
          "output_type": "execute_result",
          "data": {
            "text/plain": [
              "tensor(19)"
            ]
          },
          "metadata": {},
          "execution_count": 39
        }
      ]
    },
    {
      "cell_type": "markdown",
      "source": [
        "**Using loop for matrix multiplication takes more time than using matmul func**"
      ],
      "metadata": {
        "id": "BDCrmOCGgDW0"
      }
    },
    {
      "cell_type": "markdown",
      "source": [
        "###One of the most common errors in deep learning is shpe errors"
      ],
      "metadata": {
        "id": "1UCvcDfIhKbU"
      }
    },
    {
      "cell_type": "code",
      "source": [
        " # shapes for matrix multi[lication\n",
        " tensor_A  = torch.tensor([[3,4],\n",
        "                          [5,7],\n",
        "                          [9,6]])\n",
        "\n",
        " tensor_B = torch.tensor([[9,3],\n",
        "                          [5,8],\n",
        "                          [1,5]])\n",
        "\n",
        "#torch.mm(tensor_A,tensor_B) # torch.mm is the same as torch.matmul (it's an alias for matmul)\n",
        "torch.matmul(tensor_A,tensor_B)"
      ],
      "metadata": {
        "colab": {
          "base_uri": "https://localhost:8080/",
          "height": 176
        },
        "id": "FykanedqjnjQ",
        "outputId": "7cfb7d32-e049-497b-9d67-147056364682"
      },
      "execution_count": null,
      "outputs": [
        {
          "output_type": "error",
          "ename": "RuntimeError",
          "evalue": "mat1 and mat2 shapes cannot be multiplied (3x2 and 3x2)",
          "traceback": [
            "\u001b[0;31m---------------------------------------------------------------------------\u001b[0m",
            "\u001b[0;31mRuntimeError\u001b[0m                              Traceback (most recent call last)",
            "\u001b[0;32m<ipython-input-44-a80e6512b08e>\u001b[0m in \u001b[0;36m<cell line: 11>\u001b[0;34m()\u001b[0m\n\u001b[1;32m      9\u001b[0m \u001b[0;34m\u001b[0m\u001b[0m\n\u001b[1;32m     10\u001b[0m \u001b[0;31m#torch.mm(tensor_A,tensor_B) # torch.mm is the same as torch.matmul (it's an alias for matmul)\u001b[0m\u001b[0;34m\u001b[0m\u001b[0;34m\u001b[0m\u001b[0m\n\u001b[0;32m---> 11\u001b[0;31m \u001b[0mtorch\u001b[0m\u001b[0;34m.\u001b[0m\u001b[0mmatmul\u001b[0m\u001b[0;34m(\u001b[0m\u001b[0mtensor_A\u001b[0m\u001b[0;34m,\u001b[0m\u001b[0mtensor_B\u001b[0m\u001b[0;34m)\u001b[0m\u001b[0;34m\u001b[0m\u001b[0;34m\u001b[0m\u001b[0m\n\u001b[0m",
            "\u001b[0;31mRuntimeError\u001b[0m: mat1 and mat2 shapes cannot be multiplied (3x2 and 3x2)"
          ]
        }
      ]
    },
    {
      "cell_type": "markdown",
      "source": [
        "To fix our tensor shape issue , we can manipulate the shape of one of our tensor using **transpose**"
      ],
      "metadata": {
        "id": "0fUBOLkzlUpU"
      }
    },
    {
      "cell_type": "code",
      "source": [
        "tensor_B , tensor_B.shape"
      ],
      "metadata": {
        "colab": {
          "base_uri": "https://localhost:8080/"
        },
        "id": "eTPjZEfwmnGd",
        "outputId": "a0f581a3-e544-4071-d4ce-5d8f99e91bb3"
      },
      "execution_count": null,
      "outputs": [
        {
          "output_type": "execute_result",
          "data": {
            "text/plain": [
              "(tensor([[9, 3],\n",
              "         [5, 8],\n",
              "         [1, 5]]),\n",
              " torch.Size([3, 2]))"
            ]
          },
          "metadata": {},
          "execution_count": 45
        }
      ]
    },
    {
      "cell_type": "code",
      "source": [
        "tensor_B.T , tensor_B.T.shape"
      ],
      "metadata": {
        "colab": {
          "base_uri": "https://localhost:8080/"
        },
        "id": "rxfqoLX_mL4u",
        "outputId": "76f7ac94-4201-40e2-9a08-1b3cd4b81074"
      },
      "execution_count": null,
      "outputs": [
        {
          "output_type": "execute_result",
          "data": {
            "text/plain": [
              "(tensor([[9, 5, 1],\n",
              "         [3, 8, 5]]),\n",
              " torch.Size([2, 3]))"
            ]
          },
          "metadata": {},
          "execution_count": 46
        }
      ]
    },
    {
      "cell_type": "code",
      "source": [
        "mm = torch.matmul(tensor_A, tensor_B.T)\n",
        "mm"
      ],
      "metadata": {
        "colab": {
          "base_uri": "https://localhost:8080/"
        },
        "id": "zcywQa_9mYWp",
        "outputId": "91060841-ee12-4eab-fe3b-4b5afb5e2857"
      },
      "execution_count": null,
      "outputs": [
        {
          "output_type": "execute_result",
          "data": {
            "text/plain": [
              "tensor([[39, 47, 23],\n",
              "        [66, 81, 40],\n",
              "        [99, 93, 39]])"
            ]
          },
          "metadata": {},
          "execution_count": 47
        }
      ]
    },
    {
      "cell_type": "code",
      "source": [
        "mm.shape"
      ],
      "metadata": {
        "colab": {
          "base_uri": "https://localhost:8080/"
        },
        "id": "-CTHU1tkm8zK",
        "outputId": "3e8f38db-1d66-4a3a-ade7-373560315a12"
      },
      "execution_count": null,
      "outputs": [
        {
          "output_type": "execute_result",
          "data": {
            "text/plain": [
              "torch.Size([3, 3])"
            ]
          },
          "metadata": {},
          "execution_count": 48
        }
      ]
    },
    {
      "cell_type": "markdown",
      "source": [
        "### Tensor Aggregation (finding min, max, mean, sum)"
      ],
      "metadata": {
        "id": "HXkZ76ehnEH0"
      }
    },
    {
      "cell_type": "code",
      "source": [
        "# create tensor\n",
        "x = torch.arange(0,100,10)\n",
        "x"
      ],
      "metadata": {
        "colab": {
          "base_uri": "https://localhost:8080/"
        },
        "id": "4o8DVWTNoVH2",
        "outputId": "9d1fe2db-346f-4843-e095-b1d57e8913ef"
      },
      "execution_count": null,
      "outputs": [
        {
          "output_type": "execute_result",
          "data": {
            "text/plain": [
              "tensor([ 0, 10, 20, 30, 40, 50, 60, 70, 80, 90])"
            ]
          },
          "metadata": {},
          "execution_count": 49
        }
      ]
    },
    {
      "cell_type": "code",
      "source": [
        "# find the min\n",
        "torch.min(x), x.min()"
      ],
      "metadata": {
        "colab": {
          "base_uri": "https://localhost:8080/"
        },
        "id": "GD6DxGO_oy3S",
        "outputId": "2e8be234-cb0d-4542-eaf7-18569472ae63"
      },
      "execution_count": null,
      "outputs": [
        {
          "output_type": "execute_result",
          "data": {
            "text/plain": [
              "(tensor(0), tensor(0))"
            ]
          },
          "metadata": {},
          "execution_count": 50
        }
      ]
    },
    {
      "cell_type": "code",
      "source": [
        "# find the max\n",
        "torch.max(x), x.max()"
      ],
      "metadata": {
        "colab": {
          "base_uri": "https://localhost:8080/"
        },
        "id": "1MEHTlpipIuU",
        "outputId": "60c8d09c-05e4-4bef-bd36-bad92b517c5d"
      },
      "execution_count": null,
      "outputs": [
        {
          "output_type": "execute_result",
          "data": {
            "text/plain": [
              "(tensor(90), tensor(90))"
            ]
          },
          "metadata": {},
          "execution_count": 51
        }
      ]
    },
    {
      "cell_type": "code",
      "source": [
        "# find the mean ---> torch.mean() require a tensor of float32 datatype to work\n",
        "torch.mean(x.type(torch.float32)), x.type(torch.float32).mean()"
      ],
      "metadata": {
        "colab": {
          "base_uri": "https://localhost:8080/"
        },
        "id": "HAyt_sEzpSOs",
        "outputId": "87440dbc-654b-4b01-ee63-af79eab1da83"
      },
      "execution_count": null,
      "outputs": [
        {
          "output_type": "execute_result",
          "data": {
            "text/plain": [
              "(tensor(45.), tensor(45.))"
            ]
          },
          "metadata": {},
          "execution_count": 52
        }
      ]
    },
    {
      "cell_type": "code",
      "source": [
        "# find the sum\n",
        "torch.sum(x) , x.sum()"
      ],
      "metadata": {
        "colab": {
          "base_uri": "https://localhost:8080/"
        },
        "id": "IyecWyGtsXiO",
        "outputId": "0d4a6498-032f-4d88-8f33-07298dfd21e6"
      },
      "execution_count": null,
      "outputs": [
        {
          "output_type": "execute_result",
          "data": {
            "text/plain": [
              "(tensor(450), tensor(450))"
            ]
          },
          "metadata": {},
          "execution_count": 53
        }
      ]
    },
    {
      "cell_type": "markdown",
      "source": [
        "### Finding the positional min and max"
      ],
      "metadata": {
        "id": "fls_EMzVs3ys"
      }
    },
    {
      "cell_type": "code",
      "source": [
        "x"
      ],
      "metadata": {
        "colab": {
          "base_uri": "https://localhost:8080/"
        },
        "id": "1qf0GKwItx4V",
        "outputId": "9c511ede-9d41-4643-b0cc-10d84cd5333f"
      },
      "execution_count": null,
      "outputs": [
        {
          "output_type": "execute_result",
          "data": {
            "text/plain": [
              "tensor([ 0, 10, 20, 30, 40, 50, 60, 70, 80, 90])"
            ]
          },
          "metadata": {},
          "execution_count": 54
        }
      ]
    },
    {
      "cell_type": "code",
      "source": [
        "# find the position in tensor that has the minimum value with argmin() --> return indx of that\n",
        "x.argmin()"
      ],
      "metadata": {
        "colab": {
          "base_uri": "https://localhost:8080/"
        },
        "id": "LHvCiUg0t89U",
        "outputId": "05d24911-dfca-4b7c-facc-a17c8d3565a0"
      },
      "execution_count": null,
      "outputs": [
        {
          "output_type": "execute_result",
          "data": {
            "text/plain": [
              "tensor(0)"
            ]
          },
          "metadata": {},
          "execution_count": 55
        }
      ]
    },
    {
      "cell_type": "code",
      "source": [
        "# find the position in tensor that has the maximum value with argmax()\n",
        "x.argmax()"
      ],
      "metadata": {
        "colab": {
          "base_uri": "https://localhost:8080/"
        },
        "id": "qrgBgaNht_L6",
        "outputId": "aac97a7c-333f-4801-ed64-9f650a5eef49"
      },
      "execution_count": null,
      "outputs": [
        {
          "output_type": "execute_result",
          "data": {
            "text/plain": [
              "tensor(9)"
            ]
          },
          "metadata": {},
          "execution_count": 56
        }
      ]
    },
    {
      "cell_type": "markdown",
      "source": [
        "### Reshaping , staking , squeezing , and unsqueezing tensor\n",
        "\n",
        "* ``reshaping``: reshape an input tensor to a define shape\n",
        "* ``View``: return a view of an input tensor of certain shape but keep the same memory\n",
        "* ``staking``: combine multiple tensos on top of each other (vstack) side by side (hstacki)\n",
        "* ``squeez`` : remove all `1` dimension from a tensor\n",
        "* ``unsqueez`` : add `1` dimension to a tensor\n",
        "* ``permute`` : return a view of the input with dimension prenuted (swapped) in a certain way"
      ],
      "metadata": {
        "id": "9eeQDO5NukG_"
      }
    },
    {
      "cell_type": "code",
      "source": [
        "# let's create tensor\n",
        "import torch\n",
        "x = torch.arange(1.,10.)\n",
        "x , x.shape"
      ],
      "metadata": {
        "colab": {
          "base_uri": "https://localhost:8080/"
        },
        "id": "PaFC3GpYvWza",
        "outputId": "0674e7bd-9181-400d-8c33-8182ed5c5f03"
      },
      "execution_count": null,
      "outputs": [
        {
          "output_type": "execute_result",
          "data": {
            "text/plain": [
              "(tensor([1., 2., 3., 4., 5., 6., 7., 8., 9.]), torch.Size([9]))"
            ]
          },
          "metadata": {},
          "execution_count": 57
        }
      ]
    },
    {
      "cell_type": "code",
      "source": [
        "# add extra dimension\n",
        "x_reshaped = x.reshape(1,9)\n",
        "x_reshaped , x_reshaped.shape"
      ],
      "metadata": {
        "colab": {
          "base_uri": "https://localhost:8080/"
        },
        "id": "l0VcJ6XHx66n",
        "outputId": "53487ffc-17d3-4408-f950-ceb1a7facc20"
      },
      "execution_count": null,
      "outputs": [
        {
          "output_type": "execute_result",
          "data": {
            "text/plain": [
              "(tensor([[1., 2., 3., 4., 5., 6., 7., 8., 9.]]), torch.Size([1, 9]))"
            ]
          },
          "metadata": {},
          "execution_count": 58
        }
      ]
    },
    {
      "cell_type": "code",
      "source": [
        "# change the view\n",
        "z = x.view_as(x)\n",
        "z , z.shape"
      ],
      "metadata": {
        "colab": {
          "base_uri": "https://localhost:8080/"
        },
        "id": "HOJNVi8jy6WT",
        "outputId": "7c5109d0-3983-4ca5-f53c-0fa92d6f5cf3"
      },
      "execution_count": null,
      "outputs": [
        {
          "output_type": "execute_result",
          "data": {
            "text/plain": [
              "(tensor([1., 2., 3., 4., 5., 6., 7., 8., 9.]), torch.Size([9]))"
            ]
          },
          "metadata": {},
          "execution_count": 59
        }
      ]
    },
    {
      "cell_type": "code",
      "source": [
        "# changing z changes x (because a view of a tensor shares the same memory as the original)\n",
        "z[0] = 5\n",
        "z,x"
      ],
      "metadata": {
        "colab": {
          "base_uri": "https://localhost:8080/"
        },
        "id": "YmqQda4jzhva",
        "outputId": "0c75f124-8b3d-4c81-afae-b26d28d94e45"
      },
      "execution_count": null,
      "outputs": [
        {
          "output_type": "execute_result",
          "data": {
            "text/plain": [
              "(tensor([5., 2., 3., 4., 5., 6., 7., 8., 9.]),\n",
              " tensor([5., 2., 3., 4., 5., 6., 7., 8., 9.]))"
            ]
          },
          "metadata": {},
          "execution_count": 60
        }
      ]
    },
    {
      "cell_type": "code",
      "source": [
        "# Stack tensors on top of each other\n",
        "x_stacked = torch.stack([x,x,x,x],dim=1)\n",
        "x_stacked"
      ],
      "metadata": {
        "colab": {
          "base_uri": "https://localhost:8080/"
        },
        "id": "VHwDxCXk0WA2",
        "outputId": "9cb10396-6557-48c7-c631-a2b2d5e9e43d"
      },
      "execution_count": null,
      "outputs": [
        {
          "output_type": "execute_result",
          "data": {
            "text/plain": [
              "tensor([[5., 5., 5., 5.],\n",
              "        [2., 2., 2., 2.],\n",
              "        [3., 3., 3., 3.],\n",
              "        [4., 4., 4., 4.],\n",
              "        [5., 5., 5., 5.],\n",
              "        [6., 6., 6., 6.],\n",
              "        [7., 7., 7., 7.],\n",
              "        [8., 8., 8., 8.],\n",
              "        [9., 9., 9., 9.]])"
            ]
          },
          "metadata": {},
          "execution_count": 61
        }
      ]
    },
    {
      "cell_type": "code",
      "source": [
        "# hstack and vstack\n",
        "x_hstack = torch.hstack([x,x,x,x])\n",
        "x_hstack"
      ],
      "metadata": {
        "colab": {
          "base_uri": "https://localhost:8080/"
        },
        "id": "G35Gcm922cx8",
        "outputId": "58dc49a2-71a1-47ae-c1ba-3edf0011dd91"
      },
      "execution_count": null,
      "outputs": [
        {
          "output_type": "execute_result",
          "data": {
            "text/plain": [
              "tensor([5., 2., 3., 4., 5., 6., 7., 8., 9., 5., 2., 3., 4., 5., 6., 7., 8., 9.,\n",
              "        5., 2., 3., 4., 5., 6., 7., 8., 9., 5., 2., 3., 4., 5., 6., 7., 8., 9.])"
            ]
          },
          "metadata": {},
          "execution_count": 62
        }
      ]
    },
    {
      "cell_type": "code",
      "source": [
        "# v_stack\n",
        "x_vstack = torch.vstack([x,x,x,x])\n",
        "x_vstack"
      ],
      "metadata": {
        "colab": {
          "base_uri": "https://localhost:8080/"
        },
        "id": "NplAfNUs3Js9",
        "outputId": "09a1c49d-ac4e-4da0-8d0c-c3029afb4aa1"
      },
      "execution_count": null,
      "outputs": [
        {
          "output_type": "execute_result",
          "data": {
            "text/plain": [
              "tensor([[5., 2., 3., 4., 5., 6., 7., 8., 9.],\n",
              "        [5., 2., 3., 4., 5., 6., 7., 8., 9.],\n",
              "        [5., 2., 3., 4., 5., 6., 7., 8., 9.],\n",
              "        [5., 2., 3., 4., 5., 6., 7., 8., 9.]])"
            ]
          },
          "metadata": {},
          "execution_count": 63
        }
      ]
    },
    {
      "cell_type": "code",
      "source": [
        "# Squeeze\n",
        "x_reshaped , x_reshaped.shape"
      ],
      "metadata": {
        "colab": {
          "base_uri": "https://localhost:8080/"
        },
        "id": "ne1Q8mNu3eOl",
        "outputId": "0e4fc06b-db3c-4ffb-db5f-b87014ed71d4"
      },
      "execution_count": null,
      "outputs": [
        {
          "output_type": "execute_result",
          "data": {
            "text/plain": [
              "(tensor([[5., 2., 3., 4., 5., 6., 7., 8., 9.]]), torch.Size([1, 9]))"
            ]
          },
          "metadata": {},
          "execution_count": 64
        }
      ]
    },
    {
      "cell_type": "code",
      "source": [
        "x_squeezed = x_reshaped.squeeze()\n",
        "x_squeezed , x_squeezed.shape"
      ],
      "metadata": {
        "colab": {
          "base_uri": "https://localhost:8080/"
        },
        "id": "hGlERaEr4I5k",
        "outputId": "be364897-24c9-42e2-e491-8eb62a04a41d"
      },
      "execution_count": null,
      "outputs": [
        {
          "output_type": "execute_result",
          "data": {
            "text/plain": [
              "(tensor([5., 2., 3., 4., 5., 6., 7., 8., 9.]), torch.Size([9]))"
            ]
          },
          "metadata": {},
          "execution_count": 65
        }
      ]
    },
    {
      "cell_type": "code",
      "source": [
        "# torch.squeeze\n",
        "print(f\"previous tensor : {x_reshaped}\")\n",
        "print(f\"shape of previous tensor : {x_reshaped.shape}\")\n",
        "\n",
        "# remove all extra dimension (squeeze)\n",
        "print(f\"squeezed tensor : {x_squeezed}\")\n",
        "print(f\"shape of squeezed tensor : {x_squeezed.shape}\")"
      ],
      "metadata": {
        "colab": {
          "base_uri": "https://localhost:8080/"
        },
        "id": "tZ3i1WEv4df0",
        "outputId": "34cc1289-b580-4d86-bca3-f1e2003dac95"
      },
      "execution_count": null,
      "outputs": [
        {
          "output_type": "stream",
          "name": "stdout",
          "text": [
            "previous tensor : tensor([[5., 2., 3., 4., 5., 6., 7., 8., 9.]])\n",
            "shape of previous tensor : torch.Size([1, 9])\n",
            "squeezed tensor : tensor([5., 2., 3., 4., 5., 6., 7., 8., 9.])\n",
            "shape of squeezed tensor : torch.Size([9])\n"
          ]
        }
      ]
    },
    {
      "cell_type": "code",
      "source": [
        "# torch.unsqueeze\n",
        "print(f\"previous tensor : {x_squeezed}\")\n",
        "print(f\"shape of previous tensor : {x_squeezed.shape}\")\n",
        "\n",
        "# remove all extra dimension (squeeze)\n",
        "print(f\"squeezed tensor : {x_squeezed.unsqueeze(dim=0)}\")\n",
        "print(f\"shape of squeezed tensor : {x_squeezed.unsqueeze(dim=0).shape}\")\n"
      ],
      "metadata": {
        "colab": {
          "base_uri": "https://localhost:8080/"
        },
        "id": "Qys2nRCq6H4U",
        "outputId": "0d2a38f2-25ca-4a26-ca57-c4d6270ebbf2"
      },
      "execution_count": null,
      "outputs": [
        {
          "output_type": "stream",
          "name": "stdout",
          "text": [
            "previous tensor : tensor([5., 2., 3., 4., 5., 6., 7., 8., 9.])\n",
            "shape of previous tensor : torch.Size([9])\n",
            "squeezed tensor : tensor([[5., 2., 3., 4., 5., 6., 7., 8., 9.]])\n",
            "shape of squeezed tensor : torch.Size([1, 9])\n"
          ]
        }
      ]
    },
    {
      "cell_type": "code",
      "source": [
        "# torch.permute - rearrange the dimension of target tensor in a specific order\n",
        "x_original = torch.rand(size=(224,224,3))# height, width, colour channel\n",
        "\n",
        "# permute the original tensor to rearrange the axis (or dim ) order\n",
        "x_permuted = x_original.permute(2,0,1) # shift aixs 0->1 ,1->2 ,2->0\n",
        "\n",
        "print(f\"previous shape : {x_original.shape}\")\n",
        "print(f\"permuted shape : {x_permuted.shape}\")"
      ],
      "metadata": {
        "colab": {
          "base_uri": "https://localhost:8080/"
        },
        "id": "E38o9Jcr6oiE",
        "outputId": "1fa06d78-bc5a-4672-8cd7-9a5f0390b973"
      },
      "execution_count": null,
      "outputs": [
        {
          "output_type": "stream",
          "name": "stdout",
          "text": [
            "previous shape : torch.Size([224, 224, 3])\n",
            "permuted shape : torch.Size([3, 224, 224])\n"
          ]
        }
      ]
    },
    {
      "cell_type": "code",
      "source": [
        "x_original[0,0,0] = 0.8783"
      ],
      "metadata": {
        "id": "jbIpQt7_-b8v"
      },
      "execution_count": null,
      "outputs": []
    },
    {
      "cell_type": "markdown",
      "source": [
        "###Indexing (selecting data from tensor)\n",
        "\n",
        "Indexing with PyTorch is similar to indexing with NumPy"
      ],
      "metadata": {
        "id": "FMwQqoVv_iuJ"
      }
    },
    {
      "cell_type": "code",
      "source": [
        "# create a tensor\n",
        "import torch\n",
        "x = torch.arange(1,10).reshape(1,3,3)\n",
        "x , x.shape"
      ],
      "metadata": {
        "colab": {
          "base_uri": "https://localhost:8080/"
        },
        "id": "v43EIYeb34Hm",
        "outputId": "449c6bd6-bd8d-43cb-8d44-138de1e8deb1"
      },
      "execution_count": null,
      "outputs": [
        {
          "output_type": "execute_result",
          "data": {
            "text/plain": [
              "(tensor([[[1, 2, 3],\n",
              "          [4, 5, 6],\n",
              "          [7, 8, 9]]]),\n",
              " torch.Size([1, 3, 3]))"
            ]
          },
          "metadata": {},
          "execution_count": 70
        }
      ]
    },
    {
      "cell_type": "code",
      "source": [
        "# let's index on tensor\n",
        "x[0]"
      ],
      "metadata": {
        "colab": {
          "base_uri": "https://localhost:8080/"
        },
        "id": "0MMvv4sF4XM3",
        "outputId": "d92899d7-6909-4af5-efe3-46238131cd78"
      },
      "execution_count": null,
      "outputs": [
        {
          "output_type": "execute_result",
          "data": {
            "text/plain": [
              "tensor([[1, 2, 3],\n",
              "        [4, 5, 6],\n",
              "        [7, 8, 9]])"
            ]
          },
          "metadata": {},
          "execution_count": 71
        }
      ]
    },
    {
      "cell_type": "code",
      "source": [
        "# index on first row\n",
        "x[0][0]"
      ],
      "metadata": {
        "colab": {
          "base_uri": "https://localhost:8080/"
        },
        "id": "Bjr57V_X4dr9",
        "outputId": "45580ec8-b5e3-4dd3-9b81-b014c907491f"
      },
      "execution_count": null,
      "outputs": [
        {
          "output_type": "execute_result",
          "data": {
            "text/plain": [
              "tensor([1, 2, 3])"
            ]
          },
          "metadata": {},
          "execution_count": 72
        }
      ]
    },
    {
      "cell_type": "code",
      "source": [
        "# index on first innner bracket (last dimension)\n",
        "x[0][0][0]"
      ],
      "metadata": {
        "colab": {
          "base_uri": "https://localhost:8080/"
        },
        "id": "qntkKa0Z5FvD",
        "outputId": "f405e956-1e00-45b9-89cd-f22c42f15b12"
      },
      "execution_count": null,
      "outputs": [
        {
          "output_type": "execute_result",
          "data": {
            "text/plain": [
              "tensor(1)"
            ]
          },
          "metadata": {},
          "execution_count": 73
        }
      ]
    },
    {
      "cell_type": "code",
      "source": [
        "# getting number 9 elemnt from tensor\n",
        "\n",
        "x[0][2][2]"
      ],
      "metadata": {
        "colab": {
          "base_uri": "https://localhost:8080/"
        },
        "id": "ZtiJlTdZ5RHi",
        "outputId": "95d79a14-dd18-4caf-da28-3c393dc2f8a3"
      },
      "execution_count": null,
      "outputs": [
        {
          "output_type": "execute_result",
          "data": {
            "text/plain": [
              "tensor(9)"
            ]
          },
          "metadata": {},
          "execution_count": 74
        }
      ]
    },
    {
      "cell_type": "code",
      "source": [
        "# you can also use \":\" to select all of the target dimension\n",
        "x[:,0]"
      ],
      "metadata": {
        "colab": {
          "base_uri": "https://localhost:8080/"
        },
        "id": "rgTcE44s62_3",
        "outputId": "604a8f3a-0ddc-424c-bee7-164f81e93484"
      },
      "execution_count": null,
      "outputs": [
        {
          "output_type": "execute_result",
          "data": {
            "text/plain": [
              "tensor([[1, 2, 3]])"
            ]
          },
          "metadata": {},
          "execution_count": 75
        }
      ]
    },
    {
      "cell_type": "code",
      "source": [
        "# get all values of 0th and 1st dimension but only index 1 of 2nd dimension\n",
        "x[:,:,1]"
      ],
      "metadata": {
        "colab": {
          "base_uri": "https://localhost:8080/"
        },
        "id": "SITVrG-17jSF",
        "outputId": "59fd5c50-9aaf-4445-f3c5-ae8d5286a44c"
      },
      "execution_count": null,
      "outputs": [
        {
          "output_type": "execute_result",
          "data": {
            "text/plain": [
              "tensor([[2, 5, 8]])"
            ]
          },
          "metadata": {},
          "execution_count": 76
        }
      ]
    },
    {
      "cell_type": "code",
      "source": [
        "# get all values of the 0 dimension but only the 1 index value of the 1st and 2nd dimension"
      ],
      "metadata": {
        "id": "falz0aDp8BV5"
      },
      "execution_count": null,
      "outputs": []
    },
    {
      "cell_type": "code",
      "source": [
        "x[:,1,1]"
      ],
      "metadata": {
        "colab": {
          "base_uri": "https://localhost:8080/"
        },
        "id": "E81Fbhkg82x9",
        "outputId": "80816828-57d0-46ad-e23d-9ba59f414167"
      },
      "execution_count": null,
      "outputs": [
        {
          "output_type": "execute_result",
          "data": {
            "text/plain": [
              "tensor([5])"
            ]
          },
          "metadata": {},
          "execution_count": 79
        }
      ]
    },
    {
      "cell_type": "code",
      "source": [
        "# get index 0 of 0th and 1st dimension and all values of 2nd dimension\n",
        "x[0,0,:]"
      ],
      "metadata": {
        "colab": {
          "base_uri": "https://localhost:8080/"
        },
        "id": "G-U10bgU9JNQ",
        "outputId": "e9a36c25-5cfd-4475-dd88-1012cffc5bd2"
      },
      "execution_count": null,
      "outputs": [
        {
          "output_type": "execute_result",
          "data": {
            "text/plain": [
              "tensor([1, 2, 3])"
            ]
          },
          "metadata": {},
          "execution_count": 81
        }
      ]
    },
    {
      "cell_type": "code",
      "source": [
        "# to get last column\n",
        "x[:,:,2]"
      ],
      "metadata": {
        "colab": {
          "base_uri": "https://localhost:8080/"
        },
        "id": "xpNg3_lE_ZuX",
        "outputId": "f14199ea-f3bc-445e-a290-257c0a705e13"
      },
      "execution_count": null,
      "outputs": [
        {
          "output_type": "execute_result",
          "data": {
            "text/plain": [
              "tensor([[3, 6, 9]])"
            ]
          },
          "metadata": {},
          "execution_count": 86
        }
      ]
    },
    {
      "cell_type": "code",
      "source": [
        "x"
      ],
      "metadata": {
        "colab": {
          "base_uri": "https://localhost:8080/"
        },
        "id": "OaqAGYMvA2z9",
        "outputId": "6396cd41-d8cf-4d58-a677-a4ec084a396e"
      },
      "execution_count": null,
      "outputs": [
        {
          "output_type": "execute_result",
          "data": {
            "text/plain": [
              "tensor([[[1, 2, 3],\n",
              "         [4, 5, 6],\n",
              "         [7, 8, 9]]])"
            ]
          },
          "metadata": {},
          "execution_count": 87
        }
      ]
    },
    {
      "cell_type": "markdown",
      "source": [
        "### PyTorch tensor & NumPy\n",
        "\n",
        "NumPy is popular scientific Python numerical computing library.\n",
        "And because of this, PyTorch has functionality to interact with it.\n",
        "\n",
        "* Data in NumPy, want in PyTorch tensor -> `torch.from_numpy(ndarray)`\n",
        "* PyTorch tensor -> NumPy -> `torch.Tensor.numpy()`"
      ],
      "metadata": {
        "id": "aeA6-gBlBvdJ"
      }
    },
    {
      "cell_type": "code",
      "source": [
        "# numpy array to tensor\n",
        "import numpy as np\n",
        "import torch\n",
        "import tensorflow as tf\n",
        "\n",
        "array = np.arange(1.0,9.0)\n",
        "tensor  = torch.from_numpy(array)\n",
        "tensor_1 = tf.constant(array)\n",
        "\n",
        "array , tensor , tensor_1"
      ],
      "metadata": {
        "colab": {
          "base_uri": "https://localhost:8080/"
        },
        "id": "bEDpz6-7CQRg",
        "outputId": "40611266-3a35-4667-fc42-be73887ee0dc"
      },
      "execution_count": null,
      "outputs": [
        {
          "output_type": "execute_result",
          "data": {
            "text/plain": [
              "(array([1., 2., 3., 4., 5., 6., 7., 8.]),\n",
              " tensor([1., 2., 3., 4., 5., 6., 7., 8.], dtype=torch.float64),\n",
              " <tf.Tensor: shape=(8,), dtype=float64, numpy=array([1., 2., 3., 4., 5., 6., 7., 8.])>)"
            ]
          },
          "metadata": {},
          "execution_count": 94
        }
      ]
    },
    {
      "cell_type": "code",
      "source": [
        "array.dtype"
      ],
      "metadata": {
        "colab": {
          "base_uri": "https://localhost:8080/"
        },
        "id": "9FXFGdVTDYtT",
        "outputId": "757a5503-e0c9-4e19-ce05-5a8d7e3bf493"
      },
      "execution_count": null,
      "outputs": [
        {
          "output_type": "execute_result",
          "data": {
            "text/plain": [
              "dtype('float64')"
            ]
          },
          "metadata": {},
          "execution_count": 95
        }
      ]
    },
    {
      "cell_type": "markdown",
      "source": [
        "**numpy array has default dtype (float64) and torch.tensor has default dtype float32**"
      ],
      "metadata": {
        "id": "BoRh1FwZDvCI"
      }
    },
    {
      "cell_type": "code",
      "source": [
        "# If we change the original array that does not change the tensor\n",
        "array = array + 10\n",
        "array , tensor"
      ],
      "metadata": {
        "colab": {
          "base_uri": "https://localhost:8080/"
        },
        "id": "QkZiXa1aEvYL",
        "outputId": "a7bda750-e6e1-451c-df88-765058b69788"
      },
      "execution_count": null,
      "outputs": [
        {
          "output_type": "execute_result",
          "data": {
            "text/plain": [
              "(array([11., 12., 13., 14., 15., 16., 17., 18.]),\n",
              " tensor([1., 2., 3., 4., 5., 6., 7., 8.], dtype=torch.float64))"
            ]
          },
          "metadata": {},
          "execution_count": 96
        }
      ]
    },
    {
      "cell_type": "code",
      "source": [
        "# Tensor to numpy array\n",
        "tensor = torch.ones(10)\n",
        "numpy_tensor = tensor.numpy()\n",
        "tensor , numpy_tensor"
      ],
      "metadata": {
        "colab": {
          "base_uri": "https://localhost:8080/"
        },
        "id": "u0DwXkjuFc-S",
        "outputId": "a526b338-4fb1-4ba8-ad65-4f8048d6af0b"
      },
      "execution_count": null,
      "outputs": [
        {
          "output_type": "execute_result",
          "data": {
            "text/plain": [
              "(tensor([1., 1., 1., 1., 1., 1., 1., 1., 1., 1.]),\n",
              " array([1., 1., 1., 1., 1., 1., 1., 1., 1., 1.], dtype=float32))"
            ]
          },
          "metadata": {},
          "execution_count": 97
        }
      ]
    },
    {
      "cell_type": "markdown",
      "source": [
        "## Reproducebility (trying  tio take random out of random)\n",
        "\n",
        "In short how a neural network learns:\n",
        "\n",
        "` start with random number -> tensor operation -> update random number to try and make them better representation of the data -> again -> again...\n",
        "\n",
        "TO reduce the randomness in neural networks and PyTorch comes the concept of a **random seed**.\n",
        "\n",
        "Essentially what the random seed does is \"favour\" the randomness."
      ],
      "metadata": {
        "id": "lWpb1SrfF3if"
      }
    },
    {
      "cell_type": "code",
      "source": [
        "# Create two random tensor\n",
        "tensor_A  = torch.rand(4,4)\n",
        "tensor_B = torch.rand(4,4)\n",
        "\n",
        "print(tensor_A )\n",
        "print(tensor_B)\n",
        "\n",
        "print(tensor_A == tensor_B)"
      ],
      "metadata": {
        "colab": {
          "base_uri": "https://localhost:8080/"
        },
        "id": "dCmXiwI2JqOU",
        "outputId": "c3f9bcb0-4c6b-4f07-b1ec-18e659f56263"
      },
      "execution_count": null,
      "outputs": [
        {
          "output_type": "stream",
          "name": "stdout",
          "text": [
            "tensor([[0.8678, 0.9374, 0.7676, 0.5991],\n",
            "        [0.2312, 0.9576, 0.1279, 0.7740],\n",
            "        [0.9189, 0.2320, 0.6329, 0.2045],\n",
            "        [0.3360, 0.3080, 0.6623, 0.3800]])\n",
            "tensor([[0.2930, 0.2843, 0.2025, 0.9058],\n",
            "        [0.9128, 0.0292, 0.9215, 0.0778],\n",
            "        [0.8883, 0.7673, 0.8364, 0.3900],\n",
            "        [0.7166, 0.1625, 0.7173, 0.2497]])\n",
            "tensor([[False, False, False, False],\n",
            "        [False, False, False, False],\n",
            "        [False, False, False, False],\n",
            "        [False, False, False, False]])\n"
          ]
        }
      ]
    },
    {
      "cell_type": "code",
      "source": [
        "# let's make some random but reproducible tensor\n",
        "import torch\n",
        "\n",
        "# create tensors\n",
        "torch.manual_seed(42)\n",
        "tensor_C  = torch.rand(4,4)\n",
        "torch.manual_seed(42)\n",
        "tensor_D = torch.rand(4,4)\n",
        "\n",
        "print(tensor_C )\n",
        "print(tensor_D)\n",
        "\n",
        "print(tensor_C == tensor_D)"
      ],
      "metadata": {
        "colab": {
          "base_uri": "https://localhost:8080/"
        },
        "id": "Se6qQGMaKY3V",
        "outputId": "cf74064e-fda6-4bf0-9e84-878ffc791db4"
      },
      "execution_count": null,
      "outputs": [
        {
          "output_type": "stream",
          "name": "stdout",
          "text": [
            "tensor([[0.8823, 0.9150, 0.3829, 0.9593],\n",
            "        [0.3904, 0.6009, 0.2566, 0.7936],\n",
            "        [0.9408, 0.1332, 0.9346, 0.5936],\n",
            "        [0.8694, 0.5677, 0.7411, 0.4294]])\n",
            "tensor([[0.8823, 0.9150, 0.3829, 0.9593],\n",
            "        [0.3904, 0.6009, 0.2566, 0.7936],\n",
            "        [0.9408, 0.1332, 0.9346, 0.5936],\n",
            "        [0.8694, 0.5677, 0.7411, 0.4294]])\n",
            "tensor([[True, True, True, True],\n",
            "        [True, True, True, True],\n",
            "        [True, True, True, True],\n",
            "        [True, True, True, True]])\n"
          ]
        }
      ]
    },
    {
      "cell_type": "markdown",
      "source": [
        "### Running tensors and PyTorch object on the GPUs (and making faster computation)\n",
        "GPUs = faster computation on  (CUDA + NVIDIA + PyTorch)"
      ],
      "metadata": {
        "id": "24ATfRu5Oc6h"
      }
    },
    {
      "cell_type": "markdown",
      "source": [
        "### 1. Getting GPUs\n",
        "\n",
        "1. Easiest - Use google colab (option to upgrade)\n",
        "2. Cloud computing - use GCP , AWS , Azure\n",
        "3. Use your own GPU -  require setup and good GPU"
      ],
      "metadata": {
        "id": "C3TRNYZdOc2n"
      }
    },
    {
      "cell_type": "code",
      "source": [
        "!nvidia-smi"
      ],
      "metadata": {
        "colab": {
          "base_uri": "https://localhost:8080/"
        },
        "id": "Q7vQAKuLP4Us",
        "outputId": "947eebd5-6da5-4d36-9a91-62e52ec7309a"
      },
      "execution_count": null,
      "outputs": [
        {
          "output_type": "stream",
          "name": "stdout",
          "text": [
            "Sun Sep  8 02:13:00 2024       \n",
            "+---------------------------------------------------------------------------------------+\n",
            "| NVIDIA-SMI 535.104.05             Driver Version: 535.104.05   CUDA Version: 12.2     |\n",
            "|-----------------------------------------+----------------------+----------------------+\n",
            "| GPU  Name                 Persistence-M | Bus-Id        Disp.A | Volatile Uncorr. ECC |\n",
            "| Fan  Temp   Perf          Pwr:Usage/Cap |         Memory-Usage | GPU-Util  Compute M. |\n",
            "|                                         |                      |               MIG M. |\n",
            "|=========================================+======================+======================|\n",
            "|   0  Tesla T4                       Off | 00000000:00:04.0 Off |                    0 |\n",
            "| N/A   45C    P8               9W /  70W |      0MiB / 15360MiB |      0%      Default |\n",
            "|                                         |                      |                  N/A |\n",
            "+-----------------------------------------+----------------------+----------------------+\n",
            "                                                                                         \n",
            "+---------------------------------------------------------------------------------------+\n",
            "| Processes:                                                                            |\n",
            "|  GPU   GI   CI        PID   Type   Process name                            GPU Memory |\n",
            "|        ID   ID                                                             Usage      |\n",
            "|=======================================================================================|\n",
            "|  No running processes found                                                           |\n",
            "+---------------------------------------------------------------------------------------+\n"
          ]
        }
      ]
    },
    {
      "cell_type": "markdown",
      "source": [
        "### 2. Check for GPU access with PyTorch"
      ],
      "metadata": {
        "id": "fnJYfmmOZ8sL"
      }
    },
    {
      "cell_type": "code",
      "source": [
        "# check for GPU access with PyTorch\n",
        "import torch\n",
        "torch.cuda.is_available()"
      ],
      "metadata": {
        "colab": {
          "base_uri": "https://localhost:8080/"
        },
        "id": "eJuC0kqWblGw",
        "outputId": "b24ea1bd-f89b-473f-b32b-c07b3e35c930"
      },
      "execution_count": null,
      "outputs": [
        {
          "output_type": "execute_result",
          "data": {
            "text/plain": [
              "True"
            ]
          },
          "metadata": {},
          "execution_count": 3
        }
      ]
    },
    {
      "cell_type": "code",
      "source": [
        "# setup device agnostic code\n",
        "device = 'cuda' if torch.cuda.is_available() else 'cpu'\n",
        "device"
      ],
      "metadata": {
        "colab": {
          "base_uri": "https://localhost:8080/",
          "height": 35
        },
        "id": "FEeZ6G1_cGBS",
        "outputId": "a373d581-ed54-4417-e769-75ea47664a21"
      },
      "execution_count": null,
      "outputs": [
        {
          "output_type": "execute_result",
          "data": {
            "text/plain": [
              "'cuda'"
            ],
            "application/vnd.google.colaboratory.intrinsic+json": {
              "type": "string"
            }
          },
          "metadata": {},
          "execution_count": 6
        }
      ]
    },
    {
      "cell_type": "code",
      "source": [
        "# count the number of device\n",
        "torch.cuda.device_count()"
      ],
      "metadata": {
        "colab": {
          "base_uri": "https://localhost:8080/"
        },
        "id": "B4XP55WfdD7C",
        "outputId": "b3fcdb6d-a708-464d-f924-85aa3ebb51b2"
      },
      "execution_count": null,
      "outputs": [
        {
          "output_type": "execute_result",
          "data": {
            "text/plain": [
              "1"
            ]
          },
          "metadata": {},
          "execution_count": 7
        }
      ]
    },
    {
      "cell_type": "markdown",
      "source": [
        "### 3. Putting tensors (and models) on the GPU\n",
        "\n",
        "The reason we want our tensosr /models on the GPU is because using GPU results in faster computation"
      ],
      "metadata": {
        "id": "4Q8Yt55ydjFe"
      }
    },
    {
      "cell_type": "code",
      "source": [
        "# create tensor (default on CPU )\n",
        "tensor = torch.tensor([1,2,3])\n",
        "\n",
        "# tensor not on GPU\n",
        "tensor, tensor.device"
      ],
      "metadata": {
        "colab": {
          "base_uri": "https://localhost:8080/"
        },
        "id": "Kt8SRz53eyPO",
        "outputId": "a40abe90-34ec-46e7-e0f8-43ffdd50d8e7"
      },
      "execution_count": null,
      "outputs": [
        {
          "output_type": "execute_result",
          "data": {
            "text/plain": [
              "(tensor([1, 2, 3]), device(type='cpu'))"
            ]
          },
          "metadata": {},
          "execution_count": 8
        }
      ]
    },
    {
      "cell_type": "code",
      "source": [
        "# Move tensor to GPU (if avilable)\n",
        "tensor_on_gpu = tensor.to(device)\n",
        "tensor_on_gpu"
      ],
      "metadata": {
        "colab": {
          "base_uri": "https://localhost:8080/"
        },
        "id": "votTdHxPfS1g",
        "outputId": "631af7e6-6131-404b-a783-26c60e16fbaa"
      },
      "execution_count": null,
      "outputs": [
        {
          "output_type": "execute_result",
          "data": {
            "text/plain": [
              "tensor([1, 2, 3], device='cuda:0')"
            ]
          },
          "metadata": {},
          "execution_count": 9
        }
      ]
    },
    {
      "cell_type": "markdown",
      "source": [
        "### 4. Moving tensor back to CPU"
      ],
      "metadata": {
        "id": "OhTwk7V6fzN1"
      }
    },
    {
      "cell_type": "code",
      "source": [
        "# If tensor is on GPU , can't transform it to numoy\n",
        "tensor_on_gpu.numpy()"
      ],
      "metadata": {
        "colab": {
          "base_uri": "https://localhost:8080/",
          "height": 176
        },
        "id": "MwxoPZHAgQam",
        "outputId": "7df5eae5-7a16-4ffe-e891-943b8bfa99fa"
      },
      "execution_count": null,
      "outputs": [
        {
          "output_type": "error",
          "ename": "TypeError",
          "evalue": "can't convert cuda:0 device type tensor to numpy. Use Tensor.cpu() to copy the tensor to host memory first.",
          "traceback": [
            "\u001b[0;31m---------------------------------------------------------------------------\u001b[0m",
            "\u001b[0;31mTypeError\u001b[0m                                 Traceback (most recent call last)",
            "\u001b[0;32m<ipython-input-10-2b5271d0bb8a>\u001b[0m in \u001b[0;36m<cell line: 2>\u001b[0;34m()\u001b[0m\n\u001b[1;32m      1\u001b[0m \u001b[0;31m# If tensor is on GPU , can't transform it to numoy\u001b[0m\u001b[0;34m\u001b[0m\u001b[0;34m\u001b[0m\u001b[0m\n\u001b[0;32m----> 2\u001b[0;31m \u001b[0mtensor_on_gpu\u001b[0m\u001b[0;34m.\u001b[0m\u001b[0mnumpy\u001b[0m\u001b[0;34m(\u001b[0m\u001b[0;34m)\u001b[0m\u001b[0;34m\u001b[0m\u001b[0;34m\u001b[0m\u001b[0m\n\u001b[0m",
            "\u001b[0;31mTypeError\u001b[0m: can't convert cuda:0 device type tensor to numpy. Use Tensor.cpu() to copy the tensor to host memory first."
          ]
        }
      ]
    },
    {
      "cell_type": "code",
      "source": [
        "# To fix the GPU tensor with numpy issue, we can first set it to the CPU\n",
        "tensor_back_on_cpu = tensor_on_gpu.cpu().numpy()\n",
        "tensor_back_on_cpu"
      ],
      "metadata": {
        "colab": {
          "base_uri": "https://localhost:8080/"
        },
        "id": "ymI9uTVwghM5",
        "outputId": "c5aa2691-4656-430f-aff8-a1d597ed9cec"
      },
      "execution_count": null,
      "outputs": [
        {
          "output_type": "execute_result",
          "data": {
            "text/plain": [
              "array([1, 2, 3])"
            ]
          },
          "metadata": {},
          "execution_count": 11
        }
      ]
    },
    {
      "cell_type": "code",
      "source": [
        "tensor_on_gpu # it remains unchange"
      ],
      "metadata": {
        "id": "m4PNakeJhV2X",
        "outputId": "6b014846-1e09-4291-fa8d-c8d8fdd637f9",
        "colab": {
          "base_uri": "https://localhost:8080/"
        }
      },
      "execution_count": null,
      "outputs": [
        {
          "output_type": "execute_result",
          "data": {
            "text/plain": [
              "tensor([1, 2, 3], device='cuda:0')"
            ]
          },
          "metadata": {},
          "execution_count": 12
        }
      ]
    },
    {
      "cell_type": "code",
      "source": [],
      "metadata": {
        "id": "8Qq5BBFfhXY4"
      },
      "execution_count": null,
      "outputs": []
    }
  ]
}